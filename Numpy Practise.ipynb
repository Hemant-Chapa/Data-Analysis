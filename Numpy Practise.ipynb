{
 "cells": [
  {
   "cell_type": "code",
   "execution_count": null,
   "metadata": {},
   "outputs": [],
   "source": []
  },
  {
   "cell_type": "markdown",
   "metadata": {},
   "source": [
    "# Data Analysis Practise"
   ]
  },
  {
   "cell_type": "markdown",
   "metadata": {},
   "source": [
    "Chapter 1 - Numpy"
   ]
  },
  {
   "cell_type": "code",
   "execution_count": 1,
   "metadata": {},
   "outputs": [],
   "source": [
    "import numpy as np"
   ]
  },
  {
   "cell_type": "code",
   "execution_count": 2,
   "metadata": {},
   "outputs": [],
   "source": [
    "data1 = [1,2.3,4,5,6]"
   ]
  },
  {
   "cell_type": "code",
   "execution_count": 3,
   "metadata": {},
   "outputs": [],
   "source": [
    "arr = np.array(data1)"
   ]
  },
  {
   "cell_type": "code",
   "execution_count": 4,
   "metadata": {},
   "outputs": [
    {
     "data": {
      "text/plain": [
       "array([1. , 2.3, 4. , 5. , 6. ])"
      ]
     },
     "execution_count": 4,
     "metadata": {},
     "output_type": "execute_result"
    }
   ],
   "source": [
    "arr"
   ]
  },
  {
   "cell_type": "code",
   "execution_count": 5,
   "metadata": {},
   "outputs": [],
   "source": [
    "data2 = [[1,2,3],[4,5,6]]"
   ]
  },
  {
   "cell_type": "code",
   "execution_count": 6,
   "metadata": {},
   "outputs": [],
   "source": [
    "arr2 = np.array(data2)"
   ]
  },
  {
   "cell_type": "code",
   "execution_count": 7,
   "metadata": {},
   "outputs": [
    {
     "data": {
      "text/plain": [
       "array([[1, 2, 3],\n",
       "       [4, 5, 6]])"
      ]
     },
     "execution_count": 7,
     "metadata": {},
     "output_type": "execute_result"
    }
   ],
   "source": [
    "arr2"
   ]
  },
  {
   "cell_type": "code",
   "execution_count": 8,
   "metadata": {},
   "outputs": [
    {
     "data": {
      "text/plain": [
       "2"
      ]
     },
     "execution_count": 8,
     "metadata": {},
     "output_type": "execute_result"
    }
   ],
   "source": [
    "arr2.ndim"
   ]
  },
  {
   "cell_type": "code",
   "execution_count": 9,
   "metadata": {},
   "outputs": [
    {
     "data": {
      "text/plain": [
       "(2, 3)"
      ]
     },
     "execution_count": 9,
     "metadata": {},
     "output_type": "execute_result"
    }
   ],
   "source": [
    "arr2.shape"
   ]
  },
  {
   "cell_type": "code",
   "execution_count": 10,
   "metadata": {},
   "outputs": [
    {
     "data": {
      "text/plain": [
       "dtype('int32')"
      ]
     },
     "execution_count": 10,
     "metadata": {},
     "output_type": "execute_result"
    }
   ],
   "source": [
    "arr2.dtype"
   ]
  },
  {
   "cell_type": "code",
   "execution_count": 11,
   "metadata": {},
   "outputs": [
    {
     "data": {
      "text/plain": [
       "array([0., 0., 0., 0., 0., 0., 0., 0., 0., 0.])"
      ]
     },
     "execution_count": 11,
     "metadata": {},
     "output_type": "execute_result"
    }
   ],
   "source": [
    "zero_arr = np.zeros(10)\n",
    "zero_arr"
   ]
  },
  {
   "cell_type": "code",
   "execution_count": 12,
   "metadata": {},
   "outputs": [
    {
     "data": {
      "text/plain": [
       "array([[0., 0.],\n",
       "       [0., 0.],\n",
       "       [0., 0.]])"
      ]
     },
     "execution_count": 12,
     "metadata": {},
     "output_type": "execute_result"
    }
   ],
   "source": [
    "zero_arr_2dim = np.zeros((3,2))\n",
    "zero_arr_2dim"
   ]
  },
  {
   "cell_type": "code",
   "execution_count": 13,
   "metadata": {},
   "outputs": [
    {
     "data": {
      "text/plain": [
       "2"
      ]
     },
     "execution_count": 13,
     "metadata": {},
     "output_type": "execute_result"
    }
   ],
   "source": [
    "zero_arr_2dim.ndim"
   ]
  },
  {
   "cell_type": "code",
   "execution_count": 14,
   "metadata": {},
   "outputs": [
    {
     "data": {
      "text/plain": [
       "array([[[0., 0.],\n",
       "        [0., 0.],\n",
       "        [0., 0.]],\n",
       "\n",
       "       [[0., 0.],\n",
       "        [0., 0.],\n",
       "        [0., 0.]],\n",
       "\n",
       "       [[0., 0.],\n",
       "        [0., 0.],\n",
       "        [0., 0.]],\n",
       "\n",
       "       [[0., 0.],\n",
       "        [0., 0.],\n",
       "        [0., 0.]]])"
      ]
     },
     "execution_count": 14,
     "metadata": {},
     "output_type": "execute_result"
    }
   ],
   "source": [
    "zero_arr_3dim = np.zeros((4,3,2))\n",
    "zero_arr_3dim"
   ]
  },
  {
   "cell_type": "code",
   "execution_count": 15,
   "metadata": {},
   "outputs": [
    {
     "data": {
      "text/plain": [
       "3"
      ]
     },
     "execution_count": 15,
     "metadata": {},
     "output_type": "execute_result"
    }
   ],
   "source": [
    "zero_arr_3dim.ndim"
   ]
  },
  {
   "cell_type": "code",
   "execution_count": 16,
   "metadata": {},
   "outputs": [
    {
     "data": {
      "text/plain": [
       "array([0, 1, 2, 3, 4, 5, 6, 7, 8, 9])"
      ]
     },
     "execution_count": 16,
     "metadata": {},
     "output_type": "execute_result"
    }
   ],
   "source": [
    "arr_range_10 = np.arange(10)\n",
    "arr_range_10"
   ]
  },
  {
   "cell_type": "code",
   "execution_count": 17,
   "metadata": {},
   "outputs": [
    {
     "data": {
      "text/plain": [
       "array([1, 2, 3, 4])"
      ]
     },
     "execution_count": 17,
     "metadata": {},
     "output_type": "execute_result"
    }
   ],
   "source": [
    "# COnversion of tuple to array\n",
    "tup1 = (1,2,3,4)\n",
    "arr_tup1 = np.array(tup1)\n",
    "arr_tup1"
   ]
  },
  {
   "cell_type": "code",
   "execution_count": 18,
   "metadata": {},
   "outputs": [
    {
     "data": {
      "text/plain": [
       "array([1, 2, 3, 4])"
      ]
     },
     "execution_count": 18,
     "metadata": {},
     "output_type": "execute_result"
    }
   ],
   "source": [
    "np.asarray(tup1)"
   ]
  },
  {
   "cell_type": "code",
   "execution_count": 19,
   "metadata": {},
   "outputs": [
    {
     "data": {
      "text/plain": [
       "array([1, 2, 3, 4])"
      ]
     },
     "execution_count": 19,
     "metadata": {},
     "output_type": "execute_result"
    }
   ],
   "source": [
    "np.asarray(arr_tup1)"
   ]
  },
  {
   "cell_type": "markdown",
   "metadata": {},
   "source": [
    "### Test diff between np.array and np.asarray\n",
    "np.array() works on a copy of the array, whereas, np.asarray() works on the array itself"
   ]
  },
  {
   "cell_type": "code",
   "execution_count": 195,
   "metadata": {},
   "outputs": [
    {
     "data": {
      "text/plain": [
       "array([1, 2, 3, 4, 5])"
      ]
     },
     "execution_count": 195,
     "metadata": {},
     "output_type": "execute_result"
    }
   ],
   "source": [
    "arr1 = np.array([1,2,3,4,5])\n",
    "arr1"
   ]
  },
  {
   "cell_type": "code",
   "execution_count": 196,
   "metadata": {},
   "outputs": [
    {
     "data": {
      "text/plain": [
       "1"
      ]
     },
     "execution_count": 196,
     "metadata": {},
     "output_type": "execute_result"
    }
   ],
   "source": [
    "np.array(arr1)[0]"
   ]
  },
  {
   "cell_type": "code",
   "execution_count": 197,
   "metadata": {},
   "outputs": [],
   "source": [
    "np.array(arr1)[0] = 5"
   ]
  },
  {
   "cell_type": "code",
   "execution_count": 198,
   "metadata": {},
   "outputs": [
    {
     "data": {
      "text/plain": [
       "array([1, 2, 3, 4, 5])"
      ]
     },
     "execution_count": 198,
     "metadata": {},
     "output_type": "execute_result"
    }
   ],
   "source": [
    "arr1# NO change, since it is modifying the copy of the array"
   ]
  },
  {
   "cell_type": "code",
   "execution_count": 199,
   "metadata": {},
   "outputs": [
    {
     "data": {
      "text/plain": [
       "1"
      ]
     },
     "execution_count": 199,
     "metadata": {},
     "output_type": "execute_result"
    }
   ],
   "source": [
    "np.asarray(arr1)[0] "
   ]
  },
  {
   "cell_type": "code",
   "execution_count": 200,
   "metadata": {},
   "outputs": [],
   "source": [
    "np.asarray(arr1)[0] = 5"
   ]
  },
  {
   "cell_type": "code",
   "execution_count": 201,
   "metadata": {},
   "outputs": [
    {
     "data": {
      "text/plain": [
       "array([5, 2, 3, 4, 5])"
      ]
     },
     "execution_count": 201,
     "metadata": {},
     "output_type": "execute_result"
    }
   ],
   "source": [
    "arr1 # 1st element changes to 5, since it is modifying the array itself"
   ]
  },
  {
   "cell_type": "code",
   "execution_count": null,
   "metadata": {},
   "outputs": [],
   "source": []
  },
  {
   "cell_type": "markdown",
   "metadata": {},
   "source": [
    "## np.ones and np.ones_like or np.zeros and np.zeros_like\n",
    "\n",
    "np.ones creates a ndarray of the given shape with 1 as all elements.\n",
    "\n",
    "np.ones_like takes an array and creates an ndarray with the same shape with 1s as all elements"
   ]
  },
  {
   "cell_type": "code",
   "execution_count": 27,
   "metadata": {},
   "outputs": [],
   "source": [
    "A = np.ones((2,3))"
   ]
  },
  {
   "cell_type": "code",
   "execution_count": 28,
   "metadata": {},
   "outputs": [
    {
     "data": {
      "text/plain": [
       "array([[1., 1., 1.],\n",
       "       [1., 1., 1.]])"
      ]
     },
     "execution_count": 28,
     "metadata": {},
     "output_type": "execute_result"
    }
   ],
   "source": [
    "A"
   ]
  },
  {
   "cell_type": "code",
   "execution_count": 29,
   "metadata": {},
   "outputs": [
    {
     "data": {
      "text/plain": [
       "array([[1., 1., 1.],\n",
       "       [1., 1., 1.]])"
      ]
     },
     "execution_count": 29,
     "metadata": {},
     "output_type": "execute_result"
    }
   ],
   "source": [
    "B = np.ones_like(A)\n",
    "B"
   ]
  },
  {
   "cell_type": "markdown",
   "metadata": {},
   "source": [
    "### Identity Matrix"
   ]
  },
  {
   "cell_type": "code",
   "execution_count": 30,
   "metadata": {},
   "outputs": [
    {
     "data": {
      "text/plain": [
       "array([[1., 0., 0.],\n",
       "       [0., 1., 0.],\n",
       "       [0., 0., 1.]])"
      ]
     },
     "execution_count": 30,
     "metadata": {},
     "output_type": "execute_result"
    }
   ],
   "source": [
    "M = np.identity(3) # Creates an N X N matrix with ones in the diagonal and 0 otherwise\n",
    "M"
   ]
  },
  {
   "cell_type": "code",
   "execution_count": 31,
   "metadata": {},
   "outputs": [
    {
     "data": {
      "text/plain": [
       "array([[1., 0., 0.],\n",
       "       [0., 1., 0.],\n",
       "       [0., 0., 1.]])"
      ]
     },
     "execution_count": 31,
     "metadata": {},
     "output_type": "execute_result"
    }
   ],
   "source": [
    "N = np.eye(3)\n",
    "N"
   ]
  },
  {
   "cell_type": "markdown",
   "metadata": {},
   "source": [
    "### Type casting datatypes using astype()"
   ]
  },
  {
   "cell_type": "code",
   "execution_count": 32,
   "metadata": {},
   "outputs": [
    {
     "data": {
      "text/plain": [
       "array([2, 3, 4, 5])"
      ]
     },
     "execution_count": 32,
     "metadata": {},
     "output_type": "execute_result"
    }
   ],
   "source": [
    "arr1 = np.array([2,3,4,5])\n",
    "arr1"
   ]
  },
  {
   "cell_type": "code",
   "execution_count": 33,
   "metadata": {},
   "outputs": [
    {
     "data": {
      "text/plain": [
       "dtype('int32')"
      ]
     },
     "execution_count": 33,
     "metadata": {},
     "output_type": "execute_result"
    }
   ],
   "source": [
    "arr1.dtype"
   ]
  },
  {
   "cell_type": "code",
   "execution_count": 34,
   "metadata": {},
   "outputs": [],
   "source": [
    "# Create another array with the same values as arr1 but with float type"
   ]
  },
  {
   "cell_type": "code",
   "execution_count": 35,
   "metadata": {},
   "outputs": [
    {
     "data": {
      "text/plain": [
       "array([2., 3., 4., 5.])"
      ]
     },
     "execution_count": 35,
     "metadata": {},
     "output_type": "execute_result"
    }
   ],
   "source": [
    "arr1_float = arr1.astype(np.float64)\n",
    "arr1_float"
   ]
  },
  {
   "cell_type": "code",
   "execution_count": 36,
   "metadata": {},
   "outputs": [
    {
     "data": {
      "text/plain": [
       "dtype('float64')"
      ]
     },
     "execution_count": 36,
     "metadata": {},
     "output_type": "execute_result"
    }
   ],
   "source": [
    "arr1_float.dtype"
   ]
  },
  {
   "cell_type": "markdown",
   "metadata": {},
   "source": [
    "Suppose in the data, the numerical values are present as string. Use the astype() to convert them into numerical data type"
   ]
  },
  {
   "cell_type": "code",
   "execution_count": 37,
   "metadata": {},
   "outputs": [
    {
     "data": {
      "text/plain": [
       "array([b'1.1', b'2.2', b'3.3', b'4.4'], dtype='|S3')"
      ]
     },
     "execution_count": 37,
     "metadata": {},
     "output_type": "execute_result"
    }
   ],
   "source": [
    "num_str = np.array(['1.1','2.2','3.3','4.4'], dtype = np.string_)\n",
    "num_str"
   ]
  },
  {
   "cell_type": "code",
   "execution_count": 38,
   "metadata": {},
   "outputs": [
    {
     "data": {
      "text/plain": [
       "dtype('S3')"
      ]
     },
     "execution_count": 38,
     "metadata": {},
     "output_type": "execute_result"
    }
   ],
   "source": [
    "num_str.dtype"
   ]
  },
  {
   "cell_type": "code",
   "execution_count": 39,
   "metadata": {},
   "outputs": [
    {
     "data": {
      "text/plain": [
       "array([1.1, 2.2, 3.3, 4.4])"
      ]
     },
     "execution_count": 39,
     "metadata": {},
     "output_type": "execute_result"
    }
   ],
   "source": [
    "num_float = num_str.astype(np.float)\n",
    "num_float"
   ]
  },
  {
   "cell_type": "code",
   "execution_count": 40,
   "metadata": {},
   "outputs": [
    {
     "data": {
      "text/plain": [
       "dtype('float64')"
      ]
     },
     "execution_count": 40,
     "metadata": {},
     "output_type": "execute_result"
    }
   ],
   "source": [
    "num_float.dtype"
   ]
  },
  {
   "cell_type": "markdown",
   "metadata": {},
   "source": [
    "###  Slicing - Slicing arrays always returns views (not copies)\n",
    "Any changes to the slice will cause changes in the arrays directly"
   ]
  },
  {
   "cell_type": "markdown",
   "metadata": {},
   "source": [
    "If you assign a scalar value to a slice of an array, the value will be \"broadcasted\" throughout the slice."
   ]
  },
  {
   "cell_type": "code",
   "execution_count": 41,
   "metadata": {},
   "outputs": [
    {
     "data": {
      "text/plain": [
       "array([0, 1, 2, 3, 4, 5, 6, 7, 8, 9])"
      ]
     },
     "execution_count": 41,
     "metadata": {},
     "output_type": "execute_result"
    }
   ],
   "source": [
    "arr = np.arange(10)\n",
    "arr"
   ]
  },
  {
   "cell_type": "code",
   "execution_count": 42,
   "metadata": {},
   "outputs": [
    {
     "data": {
      "text/plain": [
       "array([5, 6, 7])"
      ]
     },
     "execution_count": 42,
     "metadata": {},
     "output_type": "execute_result"
    }
   ],
   "source": [
    "arr[5:8]"
   ]
  },
  {
   "cell_type": "code",
   "execution_count": 43,
   "metadata": {},
   "outputs": [
    {
     "data": {
      "text/plain": [
       "array([0, 1, 2, 3, 4, 2, 2, 2, 8, 9])"
      ]
     },
     "execution_count": 43,
     "metadata": {},
     "output_type": "execute_result"
    }
   ],
   "source": [
    "arr[5:8] = 2\n",
    "arr"
   ]
  },
  {
   "cell_type": "markdown",
   "metadata": {},
   "source": [
    "Checking same for 2D array"
   ]
  },
  {
   "cell_type": "code",
   "execution_count": 44,
   "metadata": {},
   "outputs": [
    {
     "data": {
      "text/plain": [
       "array([[1., 1., 1.],\n",
       "       [1., 1., 1.],\n",
       "       [1., 1., 1.],\n",
       "       [1., 1., 1.],\n",
       "       [1., 1., 1.]])"
      ]
     },
     "execution_count": 44,
     "metadata": {},
     "output_type": "execute_result"
    }
   ],
   "source": [
    "arr2d = np.ones((5,3))\n",
    "arr2d"
   ]
  },
  {
   "cell_type": "code",
   "execution_count": 45,
   "metadata": {},
   "outputs": [
    {
     "data": {
      "text/plain": [
       "array([[1., 1., 1.],\n",
       "       [1., 1., 1.]])"
      ]
     },
     "execution_count": 45,
     "metadata": {},
     "output_type": "execute_result"
    }
   ],
   "source": [
    "arr2d[2:4]"
   ]
  },
  {
   "cell_type": "code",
   "execution_count": 46,
   "metadata": {},
   "outputs": [
    {
     "data": {
      "text/plain": [
       "array([[1., 1., 1.],\n",
       "       [1., 1., 1.],\n",
       "       [2., 3., 4.],\n",
       "       [2., 3., 4.],\n",
       "       [1., 1., 1.]])"
      ]
     },
     "execution_count": 46,
     "metadata": {},
     "output_type": "execute_result"
    }
   ],
   "source": [
    "arr2d[2:4] = np.array([2,3,4])\n",
    "arr2d"
   ]
  },
  {
   "cell_type": "markdown",
   "metadata": {},
   "source": [
    "Any modification to a slice of the array even after storing it in another variable will change the main array"
   ]
  },
  {
   "cell_type": "code",
   "execution_count": 47,
   "metadata": {},
   "outputs": [
    {
     "data": {
      "text/plain": [
       "array([0, 1, 2, 3, 4, 5, 6, 7, 8, 9])"
      ]
     },
     "execution_count": 47,
     "metadata": {},
     "output_type": "execute_result"
    }
   ],
   "source": [
    "arr = np.arange(10)\n",
    "arr"
   ]
  },
  {
   "cell_type": "code",
   "execution_count": 48,
   "metadata": {},
   "outputs": [
    {
     "data": {
      "text/plain": [
       "array([5, 6, 7])"
      ]
     },
     "execution_count": 48,
     "metadata": {},
     "output_type": "execute_result"
    }
   ],
   "source": [
    "arr_slice = arr[5:8]\n",
    "arr_slice"
   ]
  },
  {
   "cell_type": "code",
   "execution_count": 49,
   "metadata": {},
   "outputs": [],
   "source": [
    "arr_slice[1] = 100"
   ]
  },
  {
   "cell_type": "code",
   "execution_count": 50,
   "metadata": {},
   "outputs": [
    {
     "data": {
      "text/plain": [
       "array([  0,   1,   2,   3,   4,   5, 100,   7,   8,   9])"
      ]
     },
     "execution_count": 50,
     "metadata": {},
     "output_type": "execute_result"
    }
   ],
   "source": [
    "arr"
   ]
  },
  {
   "cell_type": "markdown",
   "metadata": {},
   "source": [
    "If you want to copy the slice of the ndarray instead of the view, use arr[5:8].copy()"
   ]
  },
  {
   "cell_type": "code",
   "execution_count": 51,
   "metadata": {},
   "outputs": [
    {
     "data": {
      "text/plain": [
       "array([0, 1, 2, 3, 4, 5, 6, 7, 8, 9])"
      ]
     },
     "execution_count": 51,
     "metadata": {},
     "output_type": "execute_result"
    }
   ],
   "source": [
    "arr = np.arange(10)\n",
    "arr"
   ]
  },
  {
   "cell_type": "code",
   "execution_count": 52,
   "metadata": {},
   "outputs": [],
   "source": [
    "arr_copy = arr[5:8].copy()"
   ]
  },
  {
   "cell_type": "code",
   "execution_count": 53,
   "metadata": {},
   "outputs": [
    {
     "data": {
      "text/plain": [
       "array([5, 6, 7])"
      ]
     },
     "execution_count": 53,
     "metadata": {},
     "output_type": "execute_result"
    }
   ],
   "source": [
    "arr_copy"
   ]
  },
  {
   "cell_type": "code",
   "execution_count": 54,
   "metadata": {},
   "outputs": [],
   "source": [
    "arr_copy[1] = 2"
   ]
  },
  {
   "cell_type": "code",
   "execution_count": 55,
   "metadata": {},
   "outputs": [
    {
     "data": {
      "text/plain": [
       "array([5, 2, 7])"
      ]
     },
     "execution_count": 55,
     "metadata": {},
     "output_type": "execute_result"
    }
   ],
   "source": [
    "arr_copy"
   ]
  },
  {
   "cell_type": "code",
   "execution_count": 56,
   "metadata": {},
   "outputs": [
    {
     "data": {
      "text/plain": [
       "array([0, 1, 2, 3, 4, 5, 6, 7, 8, 9])"
      ]
     },
     "execution_count": 56,
     "metadata": {},
     "output_type": "execute_result"
    }
   ],
   "source": [
    "arr # The main array did not change"
   ]
  },
  {
   "cell_type": "markdown",
   "metadata": {},
   "source": [
    "### Basic Indexing"
   ]
  },
  {
   "cell_type": "code",
   "execution_count": 57,
   "metadata": {},
   "outputs": [],
   "source": [
    "arr3d = np.array([\n",
    "    [[1,2,3],[4,5,6]],\n",
    "    [[7,8,9],[10,11,12]]\n",
    "])"
   ]
  },
  {
   "cell_type": "code",
   "execution_count": 58,
   "metadata": {},
   "outputs": [
    {
     "data": {
      "text/plain": [
       "array([[[ 1,  2,  3],\n",
       "        [ 4,  5,  6]],\n",
       "\n",
       "       [[ 7,  8,  9],\n",
       "        [10, 11, 12]]])"
      ]
     },
     "execution_count": 58,
     "metadata": {},
     "output_type": "execute_result"
    }
   ],
   "source": [
    "arr3d"
   ]
  },
  {
   "cell_type": "code",
   "execution_count": 59,
   "metadata": {},
   "outputs": [
    {
     "data": {
      "text/plain": [
       "array([[1, 2, 3],\n",
       "       [4, 5, 6]])"
      ]
     },
     "execution_count": 59,
     "metadata": {},
     "output_type": "execute_result"
    }
   ],
   "source": [
    "arr3d[0]"
   ]
  },
  {
   "cell_type": "code",
   "execution_count": 60,
   "metadata": {},
   "outputs": [],
   "source": [
    "old_vals = arr3d[0].copy()"
   ]
  },
  {
   "cell_type": "code",
   "execution_count": 61,
   "metadata": {},
   "outputs": [
    {
     "data": {
      "text/plain": [
       "array([[[33, 33, 33],\n",
       "        [33, 33, 33]],\n",
       "\n",
       "       [[ 7,  8,  9],\n",
       "        [10, 11, 12]]])"
      ]
     },
     "execution_count": 61,
     "metadata": {},
     "output_type": "execute_result"
    }
   ],
   "source": [
    "arr3d[0] = 33\n",
    "arr3d"
   ]
  },
  {
   "cell_type": "code",
   "execution_count": 62,
   "metadata": {},
   "outputs": [
    {
     "data": {
      "text/plain": [
       "array([[[ 1,  2,  3],\n",
       "        [ 4,  5,  6]],\n",
       "\n",
       "       [[ 7,  8,  9],\n",
       "        [10, 11, 12]]])"
      ]
     },
     "execution_count": 62,
     "metadata": {},
     "output_type": "execute_result"
    }
   ],
   "source": [
    "arr3d[0] = old_vals\n",
    "arr3d"
   ]
  },
  {
   "cell_type": "code",
   "execution_count": 63,
   "metadata": {},
   "outputs": [
    {
     "data": {
      "text/plain": [
       "array([[1, 2, 3],\n",
       "       [4, 5, 6],\n",
       "       [7, 8, 9]])"
      ]
     },
     "execution_count": 63,
     "metadata": {},
     "output_type": "execute_result"
    }
   ],
   "source": [
    "arr2d = np.array([[1,2,3],[4,5,6],[7,8,9]])\n",
    "arr2d"
   ]
  },
  {
   "cell_type": "code",
   "execution_count": 64,
   "metadata": {},
   "outputs": [
    {
     "data": {
      "text/plain": [
       "array([[1, 2, 3],\n",
       "       [4, 5, 6]])"
      ]
     },
     "execution_count": 64,
     "metadata": {},
     "output_type": "execute_result"
    }
   ],
   "source": [
    "arr2d[0:2]"
   ]
  },
  {
   "cell_type": "code",
   "execution_count": 65,
   "metadata": {},
   "outputs": [
    {
     "data": {
      "text/plain": [
       "3"
      ]
     },
     "execution_count": 65,
     "metadata": {},
     "output_type": "execute_result"
    }
   ],
   "source": [
    "arr2d[0][2]"
   ]
  },
  {
   "cell_type": "code",
   "execution_count": 66,
   "metadata": {},
   "outputs": [
    {
     "data": {
      "text/plain": [
       "3"
      ]
     },
     "execution_count": 66,
     "metadata": {},
     "output_type": "execute_result"
    }
   ],
   "source": [
    "arr2d[0,2]"
   ]
  },
  {
   "cell_type": "code",
   "execution_count": 67,
   "metadata": {},
   "outputs": [],
   "source": [
    "arr3d = np.array([\n",
    "    [[1,2,3],\n",
    "     [2,3,4]],\n",
    "    [[4,5,6],\n",
    "     [4,3,5]],\n",
    "    [[7,8,9],\n",
    "     [12,1,4]]\n",
    "])"
   ]
  },
  {
   "cell_type": "code",
   "execution_count": 68,
   "metadata": {},
   "outputs": [
    {
     "data": {
      "text/plain": [
       "array([[[ 1,  2,  3],\n",
       "        [ 2,  3,  4]],\n",
       "\n",
       "       [[ 4,  5,  6],\n",
       "        [ 4,  3,  5]],\n",
       "\n",
       "       [[ 7,  8,  9],\n",
       "        [12,  1,  4]]])"
      ]
     },
     "execution_count": 68,
     "metadata": {},
     "output_type": "execute_result"
    }
   ],
   "source": [
    "arr3d"
   ]
  },
  {
   "cell_type": "code",
   "execution_count": 207,
   "metadata": {},
   "outputs": [
    {
     "data": {
      "text/plain": [
       "array([9, 4])"
      ]
     },
     "execution_count": 207,
     "metadata": {},
     "output_type": "execute_result"
    }
   ],
   "source": [
    "# 9,4\n",
    "arr3d[2,0:,2]\n",
    "arr3d[2,:,2]"
   ]
  },
  {
   "cell_type": "code",
   "execution_count": 70,
   "metadata": {},
   "outputs": [
    {
     "data": {
      "text/plain": [
       "array([5, 3])"
      ]
     },
     "execution_count": 70,
     "metadata": {},
     "output_type": "execute_result"
    }
   ],
   "source": [
    "# 5,3\n",
    "arr3d[1,0:,1]"
   ]
  },
  {
   "cell_type": "code",
   "execution_count": 71,
   "metadata": {},
   "outputs": [
    {
     "data": {
      "text/plain": [
       "array([[2, 3],\n",
       "       [5, 3],\n",
       "       [8, 1]])"
      ]
     },
     "execution_count": 71,
     "metadata": {},
     "output_type": "execute_result"
    }
   ],
   "source": [
    "# 2,3 5,3, 8,1\n",
    "arr3d[0:,0:,1]"
   ]
  },
  {
   "cell_type": "code",
   "execution_count": 72,
   "metadata": {},
   "outputs": [
    {
     "data": {
      "text/plain": [
       "array([[[2, 3],\n",
       "        [3, 4]],\n",
       "\n",
       "       [[5, 6],\n",
       "        [3, 5]]])"
      ]
     },
     "execution_count": 72,
     "metadata": {},
     "output_type": "execute_result"
    }
   ],
   "source": [
    "# 2,3 3,4 5,6 3,5\n",
    "arr3d[0:2,0:2,1:]"
   ]
  },
  {
   "cell_type": "code",
   "execution_count": 208,
   "metadata": {},
   "outputs": [
    {
     "data": {
      "text/plain": [
       "array([[4, 5],\n",
       "       [4, 3]])"
      ]
     },
     "execution_count": 208,
     "metadata": {},
     "output_type": "execute_result"
    }
   ],
   "source": [
    "# 4,5 4,3\n",
    "arr3d[1,0:2,0:2]\n",
    "arr3d[1,:,0:2]"
   ]
  },
  {
   "cell_type": "code",
   "execution_count": 209,
   "metadata": {},
   "outputs": [
    {
     "data": {
      "text/plain": [
       "array([[8, 9],\n",
       "       [1, 4]])"
      ]
     },
     "execution_count": 209,
     "metadata": {},
     "output_type": "execute_result"
    }
   ],
   "source": [
    "# 8,9, 1,4\n",
    "arr3d[2:,0:2,1:]\n",
    "arr3d[-1,:,1:]"
   ]
  },
  {
   "cell_type": "code",
   "execution_count": 75,
   "metadata": {},
   "outputs": [
    {
     "data": {
      "text/plain": [
       "array([[ 4,  4],\n",
       "       [ 7, 12]])"
      ]
     },
     "execution_count": 75,
     "metadata": {},
     "output_type": "execute_result"
    }
   ],
   "source": [
    "#4,4 7, 12\n",
    "arr3d[1:,0:,0]"
   ]
  },
  {
   "cell_type": "code",
   "execution_count": 76,
   "metadata": {},
   "outputs": [
    {
     "data": {
      "text/plain": [
       "array([[[ 4,  5],\n",
       "        [ 4,  3]],\n",
       "\n",
       "       [[ 7,  8],\n",
       "        [12,  1]]])"
      ]
     },
     "execution_count": 76,
     "metadata": {},
     "output_type": "execute_result"
    }
   ],
   "source": [
    "# 4,5 4,3 7,8\n",
    "arr3d[1:,0:2,0:2]"
   ]
  },
  {
   "cell_type": "markdown",
   "metadata": {},
   "source": [
    "### Fancy Indexing"
   ]
  },
  {
   "cell_type": "code",
   "execution_count": 77,
   "metadata": {},
   "outputs": [
    {
     "data": {
      "text/plain": [
       "array([[1, 2, 3, 4],\n",
       "       [5, 6, 7, 8],\n",
       "       [1, 2, 3, 5]])"
      ]
     },
     "execution_count": 77,
     "metadata": {},
     "output_type": "execute_result"
    }
   ],
   "source": [
    "arr = np.array([[1,2,3,4],[5,6,7,8],[1,2,3,5]])\n",
    "arr"
   ]
  },
  {
   "cell_type": "code",
   "execution_count": 78,
   "metadata": {},
   "outputs": [
    {
     "data": {
      "text/plain": [
       "array([[5, 6, 7, 8],\n",
       "       [1, 2, 3, 5],\n",
       "       [1, 2, 3, 4],\n",
       "       [5, 6, 7, 8],\n",
       "       [1, 2, 3, 4],\n",
       "       [1, 2, 3, 5],\n",
       "       [5, 6, 7, 8],\n",
       "       [1, 2, 3, 4],\n",
       "       [5, 6, 7, 8]])"
      ]
     },
     "execution_count": 78,
     "metadata": {},
     "output_type": "execute_result"
    }
   ],
   "source": [
    "arr[[1,2,0,1,0,2,1,0,-2]]"
   ]
  },
  {
   "cell_type": "markdown",
   "metadata": {},
   "source": [
    "### Boolean Indexing"
   ]
  },
  {
   "cell_type": "code",
   "execution_count": 98,
   "metadata": {},
   "outputs": [
    {
     "data": {
      "text/plain": [
       "array([-6.60152838e-02, -9.48095196e-01,  5.00288731e-01,  1.36388825e+00,\n",
       "       -1.35128031e+00, -4.97071178e-01,  7.03209749e-01,  3.21099232e-02,\n",
       "        1.18522346e+00, -1.76001411e+00, -8.25137381e-01,  5.44437404e-01,\n",
       "        8.32655483e-01, -6.74526111e-02, -4.47311712e-01, -3.24690407e-01,\n",
       "       -8.67366086e-01, -9.99245415e-01,  2.33168145e+00, -7.27066472e-01,\n",
       "       -2.14002658e-01,  3.91003424e-01, -8.15961697e-01, -2.80945327e-01,\n",
       "        1.43418399e+00,  1.13794439e+00,  7.63974251e-01,  7.43555752e-02,\n",
       "       -1.38277068e-01, -3.89537768e-01,  4.00284541e-02,  1.23563467e+00,\n",
       "        1.62295475e-01,  6.47153448e-01,  1.36605880e-01,  1.59037479e+00,\n",
       "        1.10981603e+00,  5.02831301e-01,  1.60757868e-01,  1.56210213e+00,\n",
       "        1.69216206e-01, -1.23655008e+00,  5.61498987e-01, -1.41810208e-01,\n",
       "       -1.53934992e+00, -6.74319142e-01, -1.59732590e-01,  1.37365388e-03,\n",
       "        1.54799616e+00, -4.45593056e-01, -1.95169470e+00, -2.84859223e-02,\n",
       "       -5.70394829e-01, -1.93859302e-01, -6.48443985e-01, -2.75609149e-01,\n",
       "        2.19053293e-01,  4.39367899e-01,  7.67995481e-01, -8.73751490e-01,\n",
       "        3.05464694e-01, -6.99183906e-02, -1.72574847e-01, -1.20072503e+00,\n",
       "       -2.02984762e+00,  8.70570845e-01,  1.11339468e+00, -5.36499002e-01,\n",
       "       -5.79817109e-01, -5.67442255e-01,  1.40192252e+00,  1.78181782e-02,\n",
       "        1.63711087e-01,  2.06399096e-01, -1.13512365e-01,  2.26050448e+00,\n",
       "        1.76986077e+00, -5.16445535e-01,  1.54343806e-01, -3.56422840e-01,\n",
       "       -1.05223289e+00, -6.03131142e-01,  5.48939944e-01, -3.83579540e-01,\n",
       "        2.89659227e-03, -8.11404302e-01, -7.92564775e-01,  9.45860499e-01,\n",
       "       -6.61774934e-01, -1.22448266e+00, -5.01602723e-01, -1.58968546e+00,\n",
       "        4.78048411e-01, -7.20780079e-02, -6.36722222e-02, -1.82351671e+00,\n",
       "       -1.26944083e+00,  1.08355249e+00, -1.37085158e+00,  8.83390441e-01,\n",
       "       -2.54545918e-01,  2.42593213e-01, -9.09568593e-02,  8.28075632e-02,\n",
       "        1.49150532e+00, -1.29659801e+00,  1.16677268e+00,  1.34881470e+00,\n",
       "       -3.12190220e-02,  6.30607801e-01, -1.13194473e+00, -1.18602390e+00,\n",
       "       -4.23215473e-01,  1.57529141e+00,  8.04899902e-01, -7.84280323e-01,\n",
       "       -1.46511400e+00,  1.39937912e+00, -2.80978897e-01,  2.66437318e-01,\n",
       "       -9.89273449e-01, -2.02438413e-01,  5.22491487e-01, -1.30162046e+00,\n",
       "        7.36889850e-01, -1.03405652e+00, -9.20611782e-02,  8.00478845e-02,\n",
       "        4.66089233e-01, -4.38386701e-01, -1.42520900e+00, -7.19994044e-03,\n",
       "       -3.85869473e-01,  8.93241080e-02,  7.27621415e-01, -1.44913576e-01,\n",
       "        2.74649751e-01,  4.55431789e-01, -1.08676548e+00, -8.13633576e-01,\n",
       "       -1.79037849e-01, -1.15994086e+00,  9.21857556e-01,  3.31903284e-01,\n",
       "       -4.01279667e-02,  1.07237285e+00, -7.96336722e-01, -1.32490764e+00,\n",
       "        3.44799776e-01,  2.29789595e-01,  3.90296051e-01,  2.50848232e-01,\n",
       "        2.85499080e+00,  3.90513527e-01,  1.66442175e+00, -7.93042319e-01,\n",
       "       -9.79046108e-01, -2.50074304e-01, -5.73377177e-01, -1.92462831e+00,\n",
       "       -5.76336028e-01,  3.67378084e-01,  1.18017216e+00,  1.50648668e+00,\n",
       "       -8.14881588e-01,  7.55503737e-01,  8.62455291e-01,  1.02470526e+00,\n",
       "       -3.68548284e-01,  1.08512265e+00, -3.09979953e-01, -7.96680671e-02,\n",
       "       -1.08527994e+00, -4.60207016e-01,  1.55220009e-01, -1.33979950e+00,\n",
       "        5.16565436e-01, -8.21580138e-01,  7.97510413e-01, -3.75941156e-01,\n",
       "       -3.50033223e-01, -7.29237685e-01, -2.62992672e-01, -1.17622736e+00,\n",
       "        9.29535469e-01, -1.10890839e+00, -5.20805553e-03, -1.67532520e+00,\n",
       "        7.06045204e-01,  7.02491175e-01,  3.60659903e-01,  1.14778117e+00,\n",
       "        8.43419343e-01, -8.03733191e-01,  1.52432071e+00,  3.52886461e-01,\n",
       "       -1.91378763e+00,  4.89146455e-01,  1.54869938e+00,  1.22037575e+00,\n",
       "        7.15696121e-01,  3.51830439e-01,  1.43932450e+00, -4.05183764e-01,\n",
       "       -1.19174276e+00,  3.62956108e-01,  7.09817091e-01,  6.59337649e-01,\n",
       "        7.21895053e-02, -1.23153100e+00, -6.21305500e-01, -1.56264249e-01,\n",
       "        8.52692397e-02, -7.69043416e-01, -2.26791008e+00,  3.31154685e-01,\n",
       "        5.77676820e-01, -2.93248536e-01, -1.11743776e+00,  6.38745784e-02,\n",
       "        8.43067201e-01, -1.51969065e+00, -2.33831435e-01,  1.03664684e+00,\n",
       "        2.94116073e-01,  1.01198474e-01, -1.49379875e+00, -1.51785808e+00,\n",
       "        1.25390308e+00, -4.84858633e-01, -7.48165697e-01, -5.41929833e-01,\n",
       "       -1.71235939e-01, -1.13570402e-02, -1.48061218e+00,  3.73532911e-01,\n",
       "       -2.05695713e+00,  8.96679004e-01,  1.09773178e+00, -1.58782023e+00,\n",
       "       -6.77421217e-02, -7.35628950e-02, -7.80593646e-01,  1.25000590e-01,\n",
       "        2.33249944e+00,  1.81006455e+00,  2.69067594e-02,  4.58575054e-01,\n",
       "       -9.86750695e-01, -1.03326530e+00,  1.40891947e-01,  1.97946564e-01,\n",
       "        7.91916868e-01,  1.53423147e+00,  1.39171680e+00,  2.26893590e+00,\n",
       "       -9.67959501e-01, -1.89925293e-01,  9.83924433e-01,  6.99948157e-01,\n",
       "       -2.16641161e+00,  6.47647248e-01, -1.42740945e-01, -5.03871051e-01,\n",
       "       -2.12448424e-01,  2.67867674e-01, -1.03748936e+00, -1.31719851e-01,\n",
       "       -2.82138626e-01, -4.66726560e-01, -1.88686631e-01,  5.25894216e-01,\n",
       "        1.87704064e+00, -8.03487340e-01, -1.76509690e+00,  3.57183517e-03,\n",
       "        1.75261750e+00,  3.25137570e-01, -1.45692141e+00,  1.13123512e-01,\n",
       "       -1.61219149e+00,  2.47747630e-01, -1.62111160e+00,  5.17280201e-01,\n",
       "       -2.45415735e-01, -1.18863027e+00,  1.06924863e+00,  1.83115966e+00,\n",
       "        5.01816237e-01,  2.01781031e-01,  5.36837291e-01,  1.18959838e+00,\n",
       "        6.01534764e-01, -8.05790297e-01,  8.02358847e-01,  2.12697013e-01,\n",
       "        1.01125413e+00, -3.85918502e-01,  5.75373374e-01,  1.35772640e+00,\n",
       "       -6.84168603e-01, -7.86711036e-02,  6.88623812e-01,  4.28129484e-01,\n",
       "       -4.17779665e-01,  1.50091616e-01,  1.30822836e+00,  1.13606326e+00,\n",
       "       -7.77472119e-02, -2.05085991e+00, -1.84501464e-01,  6.49173784e-01,\n",
       "       -2.18421411e-02,  1.30004329e+00,  6.70095301e-01, -1.36083820e+00,\n",
       "       -1.63508840e+00,  1.09291322e+00, -2.50920278e+00, -4.37412816e-01,\n",
       "        8.06310987e-01, -3.40351224e-01,  1.26857705e+00,  1.04545410e+00,\n",
       "        7.94016745e-02, -8.16730038e-01,  2.37985426e-01, -6.75035996e-01,\n",
       "        4.90800670e-01,  1.40160020e+00,  1.51634668e+00, -1.26630401e+00,\n",
       "        3.72204478e-01,  2.01512819e+00, -1.41409523e+00,  2.62076583e-01,\n",
       "       -4.12791262e-01,  1.47730103e+00,  6.73203153e-01, -8.74794754e-01,\n",
       "       -2.57267418e+00,  4.02484907e-01,  1.86625941e+00,  4.53249945e-01,\n",
       "        7.59923864e-01, -2.62141831e-01, -4.20042101e-01,  2.56630861e-01,\n",
       "       -6.52250261e-01, -1.55614331e-01, -1.15244695e+00, -3.31837529e-02,\n",
       "       -1.45680372e+00,  6.55328616e-02,  1.15045603e+00,  1.37884859e+00,\n",
       "        5.64010950e-02,  1.63911133e-01,  4.22885980e-01,  1.43027944e-01,\n",
       "        1.97396251e+00,  7.54650571e-01,  2.44934356e+00, -7.78829192e-01,\n",
       "        4.52759025e-01, -2.12256321e-01, -7.91962607e-01,  7.45047802e-01,\n",
       "        1.50204935e+00, -1.65189949e+00,  1.03458187e+00, -1.15421988e-01,\n",
       "        1.31166342e-01,  1.28833707e+00,  9.08450387e-01, -3.15503486e-01,\n",
       "        8.23117692e-01, -1.51729604e+00, -1.38126084e+00,  8.88144272e-01,\n",
       "        2.16418562e-01,  1.11679408e+00,  1.03952007e+00, -2.76695772e-01,\n",
       "        3.36416201e-01,  1.17413143e+00, -7.70374891e-01,  7.62099969e-01,\n",
       "        3.19312580e-01, -1.52145992e-01, -8.25701017e-01,  2.27721244e-01,\n",
       "        1.91643878e+00, -1.55962397e+00,  1.21604958e-01, -1.31349303e+00,\n",
       "        5.03671277e-01,  1.96332330e+00, -7.80179421e-01, -1.72878479e-01,\n",
       "       -5.61349157e-01, -4.13141933e-01,  3.40651700e-01, -1.27942041e+00,\n",
       "        1.41985798e-01,  5.14009538e-01,  1.00891740e+00,  3.84053664e-01,\n",
       "        2.00523909e-01,  8.35171876e-01,  1.78725051e+00,  7.68638861e-01,\n",
       "        1.42317536e+00, -1.28533499e+00, -8.21506598e-01,  1.45864677e+00,\n",
       "        6.46137016e-01, -6.16240995e-01,  1.13518812e+00, -9.81422220e-01,\n",
       "       -2.79925348e-01,  4.21658430e-01, -4.64205573e-01,  2.00659565e+00,\n",
       "       -2.16876560e-01,  5.08141895e-01,  7.63305394e-01,  7.76619333e-02,\n",
       "        1.21184031e-01, -8.07933999e-01,  1.90180910e+00, -1.21467069e+00,\n",
       "        2.88242736e-01,  1.36675822e+00, -1.44222687e+00,  1.14653500e+00,\n",
       "        5.92525226e-01,  5.94595211e-01, -2.46256209e+00, -3.22262745e-01,\n",
       "       -6.13335542e-02,  3.23011906e-01, -3.36071488e-01, -1.31501755e-01,\n",
       "       -1.28147566e+00, -8.54555220e-01,  1.33258060e-01,  2.32169934e-01,\n",
       "       -1.04010850e-02,  3.11761100e-01,  4.87938637e-01,  1.12522340e+00,\n",
       "        1.65728168e+00,  8.20567871e-01, -1.03578203e-01, -7.61768062e-01,\n",
       "       -9.86202273e-01, -9.88265805e-01,  1.89702441e+00,  3.15141451e-01,\n",
       "       -5.25992543e-01, -6.41885270e-01,  1.93193209e+00,  8.96589965e-01,\n",
       "        4.67429343e-01,  3.74595247e-01,  1.20830135e+00,  6.46911345e-01,\n",
       "       -3.68060187e-01, -2.51207978e-01,  1.75273523e+00,  9.00088798e-01,\n",
       "       -1.01376638e+00, -8.94474683e-01, -6.47924373e-01,  8.05151218e-01,\n",
       "        5.38062329e-01, -7.62451503e-01, -4.28982111e-01,  7.89818424e-01,\n",
       "       -6.46260892e-01,  1.21981198e-01,  1.21273123e-01,  1.74652086e+00,\n",
       "       -3.45340341e-01,  5.55891842e-01,  7.82207603e-01,  1.58467431e-01,\n",
       "       -9.61363719e-03,  4.45328050e-02, -2.00393918e-01, -1.54305800e+00,\n",
       "       -6.54026123e-01, -1.58931639e+00, -1.59013008e+00,  1.26299309e+00,\n",
       "       -8.81472097e-01, -6.00124446e-01,  5.36632736e-01,  9.10946219e-01,\n",
       "        1.43939684e+00,  1.03122231e+00,  2.54859236e-01,  6.07629096e-01,\n",
       "        4.13536827e-01,  8.89329726e-01, -9.46043477e-01,  9.53705225e-01,\n",
       "        1.81844489e+00,  1.15541525e+00, -1.37089156e+00,  5.79663247e-01,\n",
       "       -3.17592229e-01, -1.53574149e+00,  4.93835412e-01,  2.30970281e-01,\n",
       "        1.08501598e+00, -8.93934632e-02,  1.46790637e+00,  1.41443073e+00,\n",
       "        9.06987305e-01,  7.74626268e-01,  7.43853078e-02,  7.15686720e-01,\n",
       "        6.16716476e-02, -5.76283959e-01, -9.57360184e-01, -3.27854132e-01,\n",
       "        2.20168708e-01,  5.28847976e-01, -6.23348451e-01, -3.01990693e-01,\n",
       "        3.37142169e-02,  3.68403400e-01,  1.46209186e+00, -2.11887689e-02,\n",
       "        2.18897543e+00,  1.34690552e+00, -1.04826846e+00, -6.39945378e-01,\n",
       "        4.69063706e-01, -2.19503768e+00, -6.02031674e-01, -2.13004000e-01,\n",
       "       -1.57910697e+00,  1.15190548e+00,  3.93212230e-01, -7.60678835e-01,\n",
       "       -5.65870688e-02, -3.18543036e-01, -9.23259943e-02, -4.96904970e-01,\n",
       "        5.56412975e-02, -2.03431287e+00, -6.72303923e-01,  1.36971257e+00,\n",
       "       -1.09460926e+00,  2.00899502e-01, -3.66441527e-01,  1.33480433e+00,\n",
       "        3.87469682e-01, -1.17652197e+00,  2.37045496e-01,  1.31587333e-01,\n",
       "       -3.94144935e-01, -3.77427608e-01,  2.60145520e+00,  3.51675344e-01,\n",
       "       -2.21820275e+00, -8.82293589e-01,  2.43169874e-01,  1.29039726e+00,\n",
       "       -7.43827194e-01,  5.57933851e-01, -2.38088933e-01, -2.09351478e+00,\n",
       "       -1.10885286e+00, -1.57892196e-01, -1.88047207e-01, -1.45077737e+00,\n",
       "        1.40199262e-01, -5.17635945e-01, -1.21951549e+00, -6.63062853e-02,\n",
       "        2.43971564e-01, -4.96835548e-01, -8.27234589e-01,  7.89221017e-02,\n",
       "       -3.07641473e-01, -2.26117119e+00,  5.48659318e-01, -1.10465154e+00,\n",
       "       -5.51877189e-01,  4.68578535e-01, -1.48079894e+00,  3.45832972e-01,\n",
       "        4.34756650e-01,  1.18944745e+00,  7.05255041e-01,  1.32904133e+00,\n",
       "       -8.67155314e-01,  1.46071451e+00, -5.44086482e-01, -8.93172060e-01,\n",
       "        1.48464689e-01, -3.98034323e-02,  6.60769967e-01,  3.93380489e-01,\n",
       "       -5.59561459e-02,  3.83061070e-01, -3.88132835e-01,  7.44895148e-01,\n",
       "        1.08904668e+00,  1.42019132e+00, -1.27046706e-01,  6.14205655e-01,\n",
       "       -2.57030899e+00,  4.85087646e-01, -6.11461315e-02, -3.05920767e-01,\n",
       "       -5.72782971e-02,  1.66932739e+00, -1.47133973e+00,  1.28422365e+00,\n",
       "       -2.36163431e-01, -7.42555150e-01,  5.44358772e-01,  6.33572481e-01,\n",
       "       -6.37229573e-01,  1.80014716e+00, -6.48002361e-01, -8.69567342e-01,\n",
       "        1.37077051e+00, -2.24000069e+00,  7.50078034e-01, -4.85133734e-01,\n",
       "        4.56865555e-01,  1.93812880e+00,  2.24506987e-01,  1.54634134e+00,\n",
       "       -2.62314324e+00,  1.90857148e-01, -4.24777320e-02, -8.17058915e-01,\n",
       "        1.36527238e+00,  6.42004655e-01, -6.93930581e-01, -5.34957770e-01,\n",
       "       -5.28666091e-02, -4.01929939e-01,  1.74353040e+00,  2.52421332e-01,\n",
       "        3.35140913e-01, -5.30078651e-01, -1.24463099e+00, -2.86354914e-01,\n",
       "        7.66036706e-01,  3.71175630e-01, -4.30700675e-01,  7.66031419e-01,\n",
       "        1.07624156e+00,  5.52034731e-01,  5.49913793e-01, -8.23484023e-01,\n",
       "       -3.06250552e-01,  3.74544296e-01,  8.43274438e-01, -1.33076315e+00,\n",
       "        6.78942354e-01, -3.81079247e-01, -1.13790619e-01, -2.15917576e+00,\n",
       "       -8.30952454e-02,  9.46698300e-01, -3.53315854e-01,  5.07600066e-01,\n",
       "       -9.24826520e-02,  2.45264907e-01, -4.59748242e-01, -2.07080151e+00,\n",
       "       -2.89223084e-01,  8.84531112e-02,  3.08708334e-01,  2.29481347e-01,\n",
       "        8.13241360e-01, -2.05906090e+00,  1.00817075e+00,  1.10072718e+00,\n",
       "        1.48657836e+00, -1.59373559e+00,  1.45065670e+00,  1.81817782e+00,\n",
       "       -2.41693783e+00,  1.65932731e+00, -1.27171206e+00, -1.89991602e+00,\n",
       "        2.98191980e-02, -7.85228519e-02, -6.97972832e-01,  4.28951219e-01,\n",
       "        1.33552373e+00,  1.55294266e+00, -1.66843060e+00,  9.42594689e-01,\n",
       "       -9.12886889e-02,  1.70172534e-01,  4.43146585e-01, -7.72960423e-02,\n",
       "        4.48268048e-02,  1.18398540e+00,  2.46825530e-01, -8.70369533e-01,\n",
       "        6.38910047e-01, -1.93896151e-01,  1.97480166e-01, -9.26345522e-01,\n",
       "       -2.31717954e-01,  6.87761634e-01,  7.35825603e-01,  2.38195808e-01,\n",
       "        9.02603382e-02, -7.97912685e-01,  2.50824052e+00, -1.34790087e+00,\n",
       "       -2.65432642e-01,  5.53446942e-01,  1.96464216e+00,  2.05690187e-01,\n",
       "        1.00623507e+00, -2.95110219e-01, -1.07567962e+00, -8.14349111e-01,\n",
       "        5.37892455e-01,  3.22339308e-01, -2.92445330e-01,  5.04926348e-02,\n",
       "        5.13571149e-01, -1.66294846e+00, -8.16027791e-02,  1.67352068e+00,\n",
       "        1.25536094e+00,  1.44583362e+00, -1.69669052e-01, -3.08748107e-01,\n",
       "       -7.79906705e-01, -9.10325675e-01, -5.70569881e-01,  1.16609376e+00,\n",
       "       -1.17214803e+00, -3.32308916e-01, -1.80490323e+00,  1.00296027e+00,\n",
       "       -1.25853198e+00,  4.94198551e-01, -1.02565142e+00, -8.68915153e-01,\n",
       "       -1.47675823e+00, -1.30743207e+00,  2.24563898e-02,  2.82774128e+00,\n",
       "       -6.07753589e-01, -3.11164640e-01,  2.07993650e-01,  1.28732707e-02,\n",
       "        2.47494107e-01,  6.90853779e-01, -6.18564500e-01, -8.20152884e-01,\n",
       "       -8.52052040e-01,  7.05956950e-01, -1.07054259e+00,  3.67201256e-01,\n",
       "       -7.41267729e-01,  1.02737281e+00,  1.70829283e+00,  1.79865779e+00,\n",
       "        4.41829393e-01,  2.32323046e+00, -5.40768489e-01, -8.62652632e-01,\n",
       "        5.56191542e-02, -1.52474719e+00,  5.76527330e-01, -2.55345044e+00,\n",
       "       -1.06842520e+00, -6.11907021e-01, -1.23337847e-01, -4.05277197e-02,\n",
       "       -1.05099933e+00,  1.65723896e-01,  3.00853922e-01, -9.14237409e-02,\n",
       "        1.00885481e+00, -9.91190856e-01,  1.99429112e-01, -1.25620146e+00,\n",
       "        2.01819609e+00, -5.03470360e-01,  8.21379028e-01,  4.10869983e-01,\n",
       "       -5.66520959e-01,  1.05681478e-01,  3.76817850e-01,  5.73048745e-01,\n",
       "       -2.55379503e-01, -1.18875968e-01, -8.38097735e-01,  3.51154482e-01,\n",
       "        2.77737897e-01,  2.22622594e-01,  6.24749079e-01,  1.06159288e+00,\n",
       "        2.46386552e-02,  2.31661912e-01, -1.04372756e+00,  1.37841979e-01,\n",
       "        1.07026370e+00, -4.39705543e-01,  9.30646015e-01, -3.29434743e-01,\n",
       "        1.35410175e-02, -2.12035952e+00, -8.23099225e-01, -1.50546682e+00,\n",
       "        9.43730134e-01, -1.29001491e+00, -8.59057768e-01, -1.31994996e+00,\n",
       "       -1.70375842e+00,  1.51932006e+00, -5.82186055e-01,  5.78270251e-01,\n",
       "       -1.81349476e-01,  1.10925542e-01, -1.11273608e+00,  2.00318538e+00,\n",
       "        2.44854825e-01,  1.59928924e+00,  1.79708787e+00, -4.92945221e-01,\n",
       "       -1.77289884e+00,  8.43640720e-03, -1.83036792e+00, -1.27022319e+00,\n",
       "        2.01575075e+00, -5.70524912e-01,  7.18342378e-01,  1.54385524e+00,\n",
       "       -6.26750568e-01, -5.15255809e-01, -1.52620811e+00,  2.95816529e-01,\n",
       "       -1.21532946e+00, -2.84075917e-01, -1.04451810e+00,  1.54294796e-01,\n",
       "        7.46875420e-01, -1.66478217e+00,  5.14995384e-01,  1.14360809e+00,\n",
       "        7.21366674e-01, -1.31036235e+00,  1.05968926e-01,  2.66911691e+00,\n",
       "       -3.00222634e-01,  1.08159678e+00, -7.79550709e-01, -4.96783089e-01,\n",
       "        2.06859169e-01, -6.07299525e-01,  5.98611885e-01, -7.20914279e-01,\n",
       "       -5.73948991e-01, -3.36563830e-01, -1.65672201e+00,  4.37579026e-01,\n",
       "        6.25595904e-01,  5.29814792e-01, -1.17822935e+00,  7.17132537e-01,\n",
       "       -5.24320863e-01, -8.25261167e-01,  9.78221560e-01, -2.30958521e-01,\n",
       "        2.98419403e-01,  1.29755429e+00,  1.21256561e+00,  6.31618353e-01,\n",
       "       -1.98494636e+00, -1.14912455e+00,  2.19040202e-01,  7.38979575e-01,\n",
       "       -3.38224132e-01, -9.22304025e-01, -3.84393450e-01, -1.43315474e+00,\n",
       "       -1.55667586e+00, -1.29328838e+00, -1.57707290e-01,  1.18788058e+00,\n",
       "       -2.24112136e-01, -8.86256757e-01, -2.02877652e-01,  5.91052725e-02,\n",
       "        1.68734457e-01, -1.16731662e+00, -4.49054321e-01,  2.69313106e-01,\n",
       "        4.88215823e-01,  1.82032613e+00, -2.05483183e+00, -4.77465614e-02,\n",
       "        1.71972803e-01,  5.36699342e-01, -1.48906705e+00, -5.51035307e-01,\n",
       "       -1.67720390e+00, -7.99879659e-01, -1.44809642e+00, -1.19231559e-01,\n",
       "        2.01857859e-01,  2.02613852e-02,  3.76366615e-01,  6.77419528e-01,\n",
       "       -5.52183366e-01,  1.26322588e+00,  1.99022947e-01, -8.27750314e-01,\n",
       "        4.69841105e-01, -2.55121288e-02,  2.23012518e+00,  7.44391740e-01,\n",
       "        1.30765416e+00, -8.20864441e-01, -1.60842074e-01,  3.79302862e-01,\n",
       "       -2.81478926e-01,  1.27294792e+00, -1.90710502e-01,  1.44138368e+00,\n",
       "       -5.30606453e-01, -2.35882364e-01, -1.16957012e+00, -1.38276407e+00,\n",
       "        4.89096924e-02, -3.26591099e-01,  1.25362556e+00,  1.04843198e+00,\n",
       "        1.47338072e+00, -1.47390198e+00, -3.82661661e-01, -1.84606222e+00,\n",
       "       -3.41145582e-02,  1.98757924e+00, -6.92182883e-01, -1.17502875e-02,\n",
       "       -1.10232020e+00, -3.71571280e-01, -5.56236270e-01, -1.02503058e-01,\n",
       "       -1.56615132e+00,  8.59798314e-01, -3.33448464e-01, -9.02041304e-01,\n",
       "       -1.34126972e+00, -2.31613490e-02, -1.14634108e+00,  3.25508764e-01,\n",
       "       -2.55884820e+00, -6.83422015e-01,  1.42057142e-02,  1.55833007e+00,\n",
       "       -5.30894968e-01, -3.69441500e-01,  8.51751722e-01,  3.38733668e-01,\n",
       "       -9.90959357e-02,  1.16761756e-01, -1.31306555e+00,  1.32188886e+00,\n",
       "        3.13163410e-01,  1.01947955e+00, -5.67997443e-01, -4.08453315e-01,\n",
       "        1.79517190e-01,  1.14417244e+00, -2.35312260e-01,  3.11741651e+00,\n",
       "       -4.38817645e-01, -1.97333676e-01, -8.32767714e-01,  1.41080357e+00,\n",
       "       -9.05794464e-01,  2.15147195e+00,  5.69179440e-01,  1.17400749e+00,\n",
       "        1.06247214e+00, -1.33450374e+00,  2.72636537e-01, -9.82117063e-02])"
      ]
     },
     "execution_count": 98,
     "metadata": {},
     "output_type": "execute_result"
    }
   ],
   "source": [
    "data = np.random.randn(1000)\n",
    "data\n"
   ]
  },
  {
   "cell_type": "code",
   "execution_count": 99,
   "metadata": {},
   "outputs": [
    {
     "data": {
      "text/plain": [
       "(array([ 70., 284., 443., 181.,  22.]),\n",
       " array([-2.62314324, -1.47503129, -0.32691934,  0.82119261,  1.96930456,\n",
       "         3.11741651]),\n",
       " <a list of 5 Patch objects>)"
      ]
     },
     "execution_count": 99,
     "metadata": {},
     "output_type": "execute_result"
    },
    {
     "data": {
      "image/png": "[encoded data removed]",
      "text/plain": [
       "<Figure size 432x288 with 1 Axes>"
      ]
     },
     "metadata": {
      "needs_background": "light"
     },
     "output_type": "display_data"
    }
   ],
   "source": [
    "import matplotlib.pyplot as plt\n",
    "\n",
    "plt.hist(data, bins = 5)\n"
   ]
  },
  {
   "cell_type": "code",
   "execution_count": 122,
   "metadata": {},
   "outputs": [
    {
     "data": {
      "text/plain": [
       "array([[64, 83, 80, 64],\n",
       "       [59, 77, 76, 61],\n",
       "       [85, 67, 48, 86],\n",
       "       [66, 77, 77, 80],\n",
       "       [43, 60, 78, 66],\n",
       "       [81, 87, 86, 56],\n",
       "       [59, 76, 76, 51]])"
      ]
     },
     "execution_count": 122,
     "metadata": {},
     "output_type": "execute_result"
    }
   ],
   "source": [
    "marks = np.random.randint(40,90, 28).reshape(7,4)\n",
    "marks"
   ]
  },
  {
   "cell_type": "code",
   "execution_count": 123,
   "metadata": {},
   "outputs": [
    {
     "data": {
      "text/plain": [
       "array(['bob', 'joe', 'will', 'bob', 'will', 'joe', 'joe'], dtype='<U4')"
      ]
     },
     "execution_count": 123,
     "metadata": {},
     "output_type": "execute_result"
    }
   ],
   "source": [
    "names = np.array(['bob', 'joe', 'will', 'bob', 'will', 'joe', 'joe'])\n",
    "names"
   ]
  },
  {
   "cell_type": "markdown",
   "metadata": {},
   "source": [
    "There is a Marks Array that contains 4 subjects marks of 7 students and there is an array with 7 names. "
   ]
  },
  {
   "cell_type": "code",
   "execution_count": 124,
   "metadata": {},
   "outputs": [
    {
     "data": {
      "text/plain": [
       "array([ True, False, False,  True, False, False, False])"
      ]
     },
     "execution_count": 124,
     "metadata": {},
     "output_type": "execute_result"
    }
   ],
   "source": [
    "# TO get bobs marks\n",
    "names == 'bob' # Returns a boolean array"
   ]
  },
  {
   "cell_type": "code",
   "execution_count": 125,
   "metadata": {},
   "outputs": [
    {
     "data": {
      "text/plain": [
       "array([[64, 83, 80, 64],\n",
       "       [66, 77, 77, 80]])"
      ]
     },
     "execution_count": 125,
     "metadata": {},
     "output_type": "execute_result"
    }
   ],
   "source": [
    "marks[names == 'bob']"
   ]
  },
  {
   "cell_type": "code",
   "execution_count": 131,
   "metadata": {},
   "outputs": [
    {
     "data": {
      "text/plain": [
       "array([[80, 64],\n",
       "       [77, 80]])"
      ]
     },
     "execution_count": 131,
     "metadata": {},
     "output_type": "execute_result"
    }
   ],
   "source": [
    "marks[names == 'bob'][:,-2:]"
   ]
  },
  {
   "cell_type": "code",
   "execution_count": 132,
   "metadata": {},
   "outputs": [
    {
     "data": {
      "text/plain": [
       "array([[59, 77, 76, 61],\n",
       "       [85, 67, 48, 86],\n",
       "       [43, 60, 78, 66],\n",
       "       [81, 87, 86, 56],\n",
       "       [59, 76, 76, 51]])"
      ]
     },
     "execution_count": 132,
     "metadata": {},
     "output_type": "execute_result"
    }
   ],
   "source": [
    "# Get all students marks except Bob's\n",
    "\n",
    "marks[names != 'bob']"
   ]
  },
  {
   "cell_type": "code",
   "execution_count": 135,
   "metadata": {},
   "outputs": [
    {
     "data": {
      "text/plain": [
       "array([[64, 83, 80, 64],\n",
       "       [85, 67, 48, 86],\n",
       "       [66, 77, 77, 80],\n",
       "       [43, 60, 78, 66]])"
      ]
     },
     "execution_count": 135,
     "metadata": {},
     "output_type": "execute_result"
    }
   ],
   "source": [
    "# Fetch results for Bob ans Will\n",
    "\n",
    "marks[(names == 'bob')|(names == 'will')]"
   ]
  },
  {
   "cell_type": "code",
   "execution_count": 148,
   "metadata": {},
   "outputs": [
    {
     "data": {
      "text/plain": [
       "array(['will', 'joe'], dtype='<U4')"
      ]
     },
     "execution_count": 148,
     "metadata": {},
     "output_type": "execute_result"
    }
   ],
   "source": [
    "# STudents who scored > 70 in 1st subject\n",
    "\n",
    "names[(marks[:,0]>70)]"
   ]
  },
  {
   "cell_type": "code",
   "execution_count": 139,
   "metadata": {},
   "outputs": [
    {
     "data": {
      "text/plain": [
       "array([[False,  True,  True, False],\n",
       "       [False,  True,  True, False],\n",
       "       [ True, False, False,  True],\n",
       "       [False,  True,  True,  True],\n",
       "       [False, False,  True, False],\n",
       "       [ True,  True,  True, False],\n",
       "       [False,  True,  True, False]])"
      ]
     },
     "execution_count": 139,
     "metadata": {},
     "output_type": "execute_result"
    }
   ],
   "source": [
    "marks > 70"
   ]
  },
  {
   "cell_type": "markdown",
   "metadata": {},
   "source": [
    "### Transposing Arrays and Swapping Axes"
   ]
  },
  {
   "cell_type": "code",
   "execution_count": 152,
   "metadata": {},
   "outputs": [
    {
     "data": {
      "text/plain": [
       "array([[32, 43, 26, 10, 10, 19, 78, 91, 20, 93],\n",
       "       [78, 13, 41, 36, 31, 82, 36, 18, 16, 76],\n",
       "       [27, 25, 86, 59, 51, 36, 35, 38, 54, 34]])"
      ]
     },
     "execution_count": 152,
     "metadata": {},
     "output_type": "execute_result"
    }
   ],
   "source": [
    "arr = np.random.randint(10,100,30).reshape(3,10)\n",
    "arr"
   ]
  },
  {
   "cell_type": "code",
   "execution_count": 153,
   "metadata": {},
   "outputs": [
    {
     "data": {
      "text/plain": [
       "array([[32, 43, 26, 10, 10, 19, 78, 91, 20, 93, 78, 13, 41, 36, 31],\n",
       "       [82, 36, 18, 16, 76, 27, 25, 86, 59, 51, 36, 35, 38, 54, 34]])"
      ]
     },
     "execution_count": 153,
     "metadata": {},
     "output_type": "execute_result"
    }
   ],
   "source": [
    "arr.reshape(2,15)"
   ]
  },
  {
   "cell_type": "code",
   "execution_count": 154,
   "metadata": {},
   "outputs": [
    {
     "data": {
      "text/plain": [
       "array([[32, 43, 26, 10, 10, 19],\n",
       "       [78, 91, 20, 93, 78, 13],\n",
       "       [41, 36, 31, 82, 36, 18],\n",
       "       [16, 76, 27, 25, 86, 59],\n",
       "       [51, 36, 35, 38, 54, 34]])"
      ]
     },
     "execution_count": 154,
     "metadata": {},
     "output_type": "execute_result"
    }
   ],
   "source": [
    "arr.reshape(5,6)"
   ]
  },
  {
   "cell_type": "code",
   "execution_count": 155,
   "metadata": {},
   "outputs": [
    {
     "data": {
      "text/plain": [
       "array([[32, 43, 26],\n",
       "       [10, 10, 19],\n",
       "       [78, 91, 20],\n",
       "       [93, 78, 13],\n",
       "       [41, 36, 31],\n",
       "       [82, 36, 18],\n",
       "       [16, 76, 27],\n",
       "       [25, 86, 59],\n",
       "       [51, 36, 35],\n",
       "       [38, 54, 34]])"
      ]
     },
     "execution_count": 155,
     "metadata": {},
     "output_type": "execute_result"
    }
   ],
   "source": [
    "arr.reshape(10,3)"
   ]
  },
  {
   "cell_type": "code",
   "execution_count": 156,
   "metadata": {},
   "outputs": [
    {
     "data": {
      "text/plain": [
       "array([[32, 43, 26, 10, 10, 19, 78, 91, 20, 93],\n",
       "       [78, 13, 41, 36, 31, 82, 36, 18, 16, 76],\n",
       "       [27, 25, 86, 59, 51, 36, 35, 38, 54, 34]])"
      ]
     },
     "execution_count": 156,
     "metadata": {},
     "output_type": "execute_result"
    }
   ],
   "source": [
    "arr"
   ]
  },
  {
   "cell_type": "code",
   "execution_count": 157,
   "metadata": {},
   "outputs": [
    {
     "data": {
      "text/plain": [
       "array([[32, 78, 27],\n",
       "       [43, 13, 25],\n",
       "       [26, 41, 86],\n",
       "       [10, 36, 59],\n",
       "       [10, 31, 51],\n",
       "       [19, 82, 36],\n",
       "       [78, 36, 35],\n",
       "       [91, 18, 38],\n",
       "       [20, 16, 54],\n",
       "       [93, 76, 34]])"
      ]
     },
     "execution_count": 157,
     "metadata": {},
     "output_type": "execute_result"
    }
   ],
   "source": [
    " arr.T # for Transpose"
   ]
  },
  {
   "cell_type": "code",
   "execution_count": 162,
   "metadata": {},
   "outputs": [
    {
     "data": {
      "text/plain": [
       "array([[32, 43, 26, 10, 10, 19, 78, 91, 20, 93],\n",
       "       [78, 13, 41, 36, 31, 82, 36, 18, 16, 76],\n",
       "       [27, 25, 86, 59, 51, 36, 35, 38, 54, 34]])"
      ]
     },
     "execution_count": 162,
     "metadata": {},
     "output_type": "execute_result"
    }
   ],
   "source": [
    "arr"
   ]
  },
  {
   "cell_type": "code",
   "execution_count": 192,
   "metadata": {},
   "outputs": [
    {
     "data": {
      "text/plain": [
       "(2, 3, 4)"
      ]
     },
     "execution_count": 192,
     "metadata": {},
     "output_type": "execute_result"
    }
   ],
   "source": [
    "arr = np.random.randint(0,30,24).reshape(2,3,4)\n",
    "arr.shape"
   ]
  },
  {
   "cell_type": "code",
   "execution_count": 193,
   "metadata": {},
   "outputs": [
    {
     "data": {
      "text/plain": [
       "array([[[10, 11],\n",
       "        [27,  4],\n",
       "        [29, 13]],\n",
       "\n",
       "       [[ 6,  9],\n",
       "        [ 9,  5],\n",
       "        [26, 23]],\n",
       "\n",
       "       [[ 0,  2],\n",
       "        [15, 15],\n",
       "        [25, 13]],\n",
       "\n",
       "       [[ 3,  3],\n",
       "        [18,  0],\n",
       "        [10,  3]]])"
      ]
     },
     "execution_count": 193,
     "metadata": {},
     "output_type": "execute_result"
    }
   ],
   "source": [
    "arr.T"
   ]
  },
  {
   "cell_type": "code",
   "execution_count": 194,
   "metadata": {},
   "outputs": [
    {
     "data": {
      "text/plain": [
       "(4, 3, 2)"
      ]
     },
     "execution_count": 194,
     "metadata": {},
     "output_type": "execute_result"
    }
   ],
   "source": [
    "arr.swapaxes(0,2).shape"
   ]
  },
  {
   "cell_type": "markdown",
   "metadata": {},
   "source": [
    "#### For an array with shape (2,3,4), the swapaxes(0,1) shape becomes (3,2,4)\n",
    "#### Swapaxes(1,2), output shape becomes(2,4,3) \n",
    "#### For array shape (a,b,c) the swapaxes(0 -> a, 1->b, 2->c)"
   ]
  },
  {
   "cell_type": "code",
   "execution_count": null,
   "metadata": {},
   "outputs": [],
   "source": []
  },
  {
   "cell_type": "code",
   "execution_count": 227,
   "metadata": {},
   "outputs": [
    {
     "data": {
      "text/plain": [
       "(2, 8)"
      ]
     },
     "execution_count": 227,
     "metadata": {},
     "output_type": "execute_result"
    }
   ],
   "source": [
    "arr = np.random.randint(0,10,16).reshape(2,8)\n",
    "arr.shape"
   ]
  },
  {
   "cell_type": "code",
   "execution_count": 229,
   "metadata": {},
   "outputs": [
    {
     "data": {
      "text/plain": [
       "16"
      ]
     },
     "execution_count": 229,
     "metadata": {},
     "output_type": "execute_result"
    }
   ],
   "source": [
    "arr.reshape(1,-1).size"
   ]
  },
  {
   "cell_type": "code",
   "execution_count": 230,
   "metadata": {},
   "outputs": [
    {
     "data": {
      "text/plain": [
       "16"
      ]
     },
     "execution_count": 230,
     "metadata": {},
     "output_type": "execute_result"
    }
   ],
   "source": [
    "arr.flatten().size"
   ]
  },
  {
   "cell_type": "code",
   "execution_count": 1,
   "metadata": {},
   "outputs": [
    {
     "ename": "NameError",
     "evalue": "name 's' is not defined",
     "output_type": "error",
     "traceback": [
      "\u001b[1;31m---------------------------------------------------------------------------\u001b[0m",
      "\u001b[1;31mNameError\u001b[0m                                 Traceback (most recent call last)",
      "\u001b[1;32m<ipython-input-1-886abc61b753>\u001b[0m in \u001b[0;36m<module>\u001b[1;34m\u001b[0m\n\u001b[1;32m----> 1\u001b[1;33m \u001b[0ms\u001b[0m\u001b[1;33m.\u001b[0m\u001b[0mplot\u001b[0m\u001b[1;33m(\u001b[0m\u001b[1;33m)\u001b[0m\u001b[1;33m\u001b[0m\u001b[1;33m\u001b[0m\u001b[0m\n\u001b[0m",
      "\u001b[1;31mNameError\u001b[0m: name 's' is not defined"
     ]
    }
   ],
   "source": [
    "s.plot()"
   ]
  },
  {
   "cell_type": "code",
   "execution_count": null,
   "metadata": {},
   "outputs": [],
   "source": []
  },
  {
   "cell_type": "code",
   "execution_count": null,
   "metadata": {},
   "outputs": [],
   "source": []
  },
  {
   "cell_type": "code",
   "execution_count": null,
   "metadata": {},
   "outputs": [],
   "source": []
  },
  {
   "cell_type": "code",
   "execution_count": null,
   "metadata": {},
   "outputs": [],
   "source": []
  }
 ],
 "metadata": {
  "kernelspec": {
   "display_name": "Python 3.7.4 64-bit ('base': conda)",
   "language": "python",
   "name": "python37464bitbasecondaa6beb71e76f344e8b8bfde2c47b605b8"
  },
  "language_info": {
   "codemirror_mode": {
    "name": "ipython",
    "version": 3
   },
   "file_extension": ".py",
   "mimetype": "text/x-python",
   "name": "python",
   "nbconvert_exporter": "python",
   "pygments_lexer": "ipython3",
   "version": "3.7.4"
  }
 },
 "nbformat": 4,
 "nbformat_minor": 2
}
